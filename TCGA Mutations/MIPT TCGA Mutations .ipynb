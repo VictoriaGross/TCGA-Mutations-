{
 "cells": [
  {
   "cell_type": "code",
   "execution_count": 1,
   "metadata": {},
   "outputs": [
    {
     "name": "stderr",
     "output_type": "stream",
     "text": [
      "Warning message:\n",
      "\"package 'BiocManager' was built under R version 3.5.3\""
     ]
    }
   ],
   "source": [
    "library(BiocManager)"
   ]
  },
  {
   "cell_type": "code",
   "execution_count": 40,
   "metadata": {},
   "outputs": [],
   "source": [
    "library(magrittr)\n",
    "library(ggplot2)\n",
    "library(datasets)"
   ]
  },
  {
   "cell_type": "code",
   "execution_count": 34,
   "metadata": {},
   "outputs": [
    {
     "name": "stderr",
     "output_type": "stream",
     "text": [
      "Warning message:\n",
      "\"package 'plyr' was built under R version 3.5.3\""
     ]
    }
   ],
   "source": [
    "library(plyr)"
   ]
  },
  {
   "cell_type": "code",
   "execution_count": 107,
   "metadata": {},
   "outputs": [
    {
     "name": "stderr",
     "output_type": "stream",
     "text": [
      "Bioconductor version 3.8 (BiocManager 1.30.4), R 3.5.2 (2018-12-20)\n",
      "Installing package(s) 'TRONCO'\n",
      "also installing the dependencies 'graph', 'bnlearn', 'Rgraphviz', 'cgdsr', 'igraph', 'R.matlab'\n",
      "\n"
     ]
    },
    {
     "name": "stdout",
     "output_type": "stream",
     "text": [
      "package 'graph' successfully unpacked and MD5 sums checked\n",
      "package 'bnlearn' successfully unpacked and MD5 sums checked\n",
      "package 'Rgraphviz' successfully unpacked and MD5 sums checked\n",
      "package 'cgdsr' successfully unpacked and MD5 sums checked\n",
      "package 'igraph' successfully unpacked and MD5 sums checked\n",
      "package 'R.matlab' successfully unpacked and MD5 sums checked\n",
      "package 'TRONCO' successfully unpacked and MD5 sums checked\n",
      "\n",
      "The downloaded binary packages are in\n",
      "\tC:\\Users\\Victoria\\AppData\\Local\\Temp\\RtmpQXNU1Q\\downloaded_packages\n"
     ]
    },
    {
     "name": "stderr",
     "output_type": "stream",
     "text": [
      "installation path not writeable, unable to update packages: class, codetools,\n",
      "  MASS, Matrix, mgcv, survival\n",
      "Update old packages: 'assertthat', 'callr', 'circlize', 'cli', 'colorspace',\n",
      "  'e1071', 'fs', 'gdtools', 'git2r', 'glue', 'gtable', 'highr', 'openssl',\n",
      "  'pkgbuild', 'polynom', 'processx', 'Rcpp', 'RCurl', 'rlang', 'rstudioapi',\n",
      "  'sys', 'xfun', 'XML', 'zoo'\n"
     ]
    }
   ],
   "source": [
    "BiocManager::install(\"TRONCO\")"
   ]
  },
  {
   "cell_type": "code",
   "execution_count": 108,
   "metadata": {},
   "outputs": [],
   "source": [
    "library(TRONCO)"
   ]
  },
  {
   "cell_type": "code",
   "execution_count": 2,
   "metadata": {},
   "outputs": [
    {
     "name": "stderr",
     "output_type": "stream",
     "text": [
      "Bioconductor version 3.8 (BiocManager 1.30.4), R 3.5.2 (2018-12-20)\n",
      "Installing package(s) 'TCGAbiolinks'\n",
      "also installing the dependencies 'formatR', 'annotate', 'interactiveDisplayBase', 'lambda.r', 'futile.options', 'GenomicAlignments', 'hwriter', 'geneplotter', 'rjson', 'ExperimentHub', 'AnnotationHub', 'base64', 'futile.logger', 'snow', 'ShortRead', 'DESeq', 'aroma.light', 'Rsamtools', 'AnnotationDbi', 'locfit', 'progress', 'GetoptLong', 'GlobalOptions', 'R.oo', 'R.methodsS3', 'DelayedArray', 'ALL', 'foreach', 'iterators', 'GenomeInfoDbData', 'rtracklayer', 'sesameData', 'illuminaio', 'randomForest', 'wheatmap', 'DNAcopy', 'BiocParallel', 'matrixStats', 'shape', 'downloader', 'GenomicRanges', 'EDASeq', 'edgeR', 'biomaRt', 'ggthemes', 'rvest', 'selectr', 'ComplexHeatmap', 'R.utils', 'SummarizedExperiment', 'ConsensusClusterPlus', 'doParallel', 'GenomeInfoDb', 'GenomicFeatures', 'sesame', 'sva', 'matlab', 'circlize'\n",
      "\n"
     ]
    },
    {
     "name": "stdout",
     "output_type": "stream",
     "text": [
      "package 'formatR' successfully unpacked and MD5 sums checked\n",
      "package 'annotate' successfully unpacked and MD5 sums checked\n",
      "package 'interactiveDisplayBase' successfully unpacked and MD5 sums checked\n",
      "package 'lambda.r' successfully unpacked and MD5 sums checked\n",
      "package 'futile.options' successfully unpacked and MD5 sums checked\n",
      "package 'GenomicAlignments' successfully unpacked and MD5 sums checked\n",
      "package 'hwriter' successfully unpacked and MD5 sums checked\n",
      "package 'geneplotter' successfully unpacked and MD5 sums checked\n",
      "package 'rjson' successfully unpacked and MD5 sums checked\n",
      "package 'ExperimentHub' successfully unpacked and MD5 sums checked\n",
      "package 'AnnotationHub' successfully unpacked and MD5 sums checked\n",
      "package 'base64' successfully unpacked and MD5 sums checked\n",
      "package 'futile.logger' successfully unpacked and MD5 sums checked\n",
      "package 'snow' successfully unpacked and MD5 sums checked\n",
      "package 'ShortRead' successfully unpacked and MD5 sums checked\n",
      "package 'DESeq' successfully unpacked and MD5 sums checked\n",
      "package 'aroma.light' successfully unpacked and MD5 sums checked\n",
      "package 'Rsamtools' successfully unpacked and MD5 sums checked\n",
      "package 'AnnotationDbi' successfully unpacked and MD5 sums checked\n",
      "package 'locfit' successfully unpacked and MD5 sums checked\n",
      "package 'progress' successfully unpacked and MD5 sums checked\n",
      "package 'GetoptLong' successfully unpacked and MD5 sums checked\n",
      "package 'GlobalOptions' successfully unpacked and MD5 sums checked\n",
      "package 'R.oo' successfully unpacked and MD5 sums checked\n",
      "package 'R.methodsS3' successfully unpacked and MD5 sums checked\n",
      "package 'DelayedArray' successfully unpacked and MD5 sums checked\n",
      "package 'foreach' successfully unpacked and MD5 sums checked\n",
      "package 'iterators' successfully unpacked and MD5 sums checked\n",
      "package 'rtracklayer' successfully unpacked and MD5 sums checked\n",
      "package 'illuminaio' successfully unpacked and MD5 sums checked\n",
      "package 'randomForest' successfully unpacked and MD5 sums checked\n",
      "package 'wheatmap' successfully unpacked and MD5 sums checked\n",
      "package 'DNAcopy' successfully unpacked and MD5 sums checked\n",
      "package 'BiocParallel' successfully unpacked and MD5 sums checked\n",
      "package 'matrixStats' successfully unpacked and MD5 sums checked\n",
      "package 'shape' successfully unpacked and MD5 sums checked\n",
      "package 'downloader' successfully unpacked and MD5 sums checked\n",
      "package 'GenomicRanges' successfully unpacked and MD5 sums checked\n",
      "package 'EDASeq' successfully unpacked and MD5 sums checked\n",
      "package 'edgeR' successfully unpacked and MD5 sums checked\n",
      "package 'biomaRt' successfully unpacked and MD5 sums checked\n",
      "package 'ggthemes' successfully unpacked and MD5 sums checked\n",
      "package 'rvest' successfully unpacked and MD5 sums checked\n",
      "package 'selectr' successfully unpacked and MD5 sums checked\n",
      "package 'ComplexHeatmap' successfully unpacked and MD5 sums checked\n",
      "package 'R.utils' successfully unpacked and MD5 sums checked\n",
      "package 'SummarizedExperiment' successfully unpacked and MD5 sums checked\n",
      "package 'ConsensusClusterPlus' successfully unpacked and MD5 sums checked\n",
      "package 'doParallel' successfully unpacked and MD5 sums checked\n",
      "package 'GenomeInfoDb' successfully unpacked and MD5 sums checked\n",
      "package 'GenomicFeatures' successfully unpacked and MD5 sums checked\n",
      "package 'sesame' successfully unpacked and MD5 sums checked\n",
      "package 'sva' successfully unpacked and MD5 sums checked\n",
      "package 'matlab' successfully unpacked and MD5 sums checked\n",
      "package 'circlize' successfully unpacked and MD5 sums checked\n",
      "package 'TCGAbiolinks' successfully unpacked and MD5 sums checked\n",
      "\n",
      "The downloaded binary packages are in\n",
      "\tC:\\Users\\Victoria\\AppData\\Local\\Temp\\RtmpKAxdro\\downloaded_packages\n"
     ]
    },
    {
     "name": "stderr",
     "output_type": "stream",
     "text": [
      "installing the source packages 'ALL', 'GenomeInfoDbData', 'sesameData'\n",
      "\n",
      "Warning message in install.packages(pkgs = doing, lib = lib, repos = repos, ...):\n",
      "\"installation of package 'sesameData' had non-zero exit status\"installation path not writeable, unable to update packages: class, codetools,\n",
      "  MASS, Matrix, mgcv, survival\n",
      "Update old packages: 'assertthat', 'callr', 'cli', 'colorspace', 'e1071', 'fs',\n",
      "  'git2r', 'glue', 'gtable', 'highr', 'openssl', 'pkgbuild', 'polynom',\n",
      "  'processx', 'Rcpp', 'RCurl', 'rlang', 'rstudioapi', 'sys', 'xfun', 'XML',\n",
      "  'zoo'\n"
     ]
    }
   ],
   "source": [
    "BiocManager::install(\"TCGAbiolinks\", version = \"3.8\")"
   ]
  },
  {
   "cell_type": "code",
   "execution_count": null,
   "metadata": {},
   "outputs": [],
   "source": []
  },
  {
   "cell_type": "code",
   "execution_count": 3,
   "metadata": {},
   "outputs": [
    {
     "name": "stderr",
     "output_type": "stream",
     "text": [
      "Bioconductor version 3.8 (BiocManager 1.30.4), R 3.5.2 (2018-12-20)\n",
      "Installing package(s) 'RTCGA.mutations'\n",
      "also installing the dependency 'RTCGA'\n",
      "\n"
     ]
    },
    {
     "name": "stdout",
     "output_type": "stream",
     "text": [
      "package 'RTCGA' successfully unpacked and MD5 sums checked\n",
      "\n",
      "The downloaded binary packages are in\n",
      "\tC:\\Users\\Victoria\\AppData\\Local\\Temp\\RtmpKAxdro\\downloaded_packages\n"
     ]
    },
    {
     "name": "stderr",
     "output_type": "stream",
     "text": [
      "installing the source package 'RTCGA.mutations'\n",
      "\n",
      "installation path not writeable, unable to update packages: class, codetools,\n",
      "  MASS, Matrix, mgcv, survival\n",
      "Update old packages: 'assertthat', 'callr', 'cli', 'colorspace', 'e1071', 'fs',\n",
      "  'git2r', 'glue', 'gtable', 'highr', 'openssl', 'pkgbuild', 'polynom',\n",
      "  'processx', 'Rcpp', 'RCurl', 'rlang', 'rstudioapi', 'sys', 'xfun', 'XML',\n",
      "  'zoo'\n"
     ]
    }
   ],
   "source": [
    "BiocManager::install(\"RTCGA.mutations\", version = \"3.8\")\n"
   ]
  },
  {
   "cell_type": "code",
   "execution_count": 3,
   "metadata": {},
   "outputs": [
    {
     "name": "stderr",
     "output_type": "stream",
     "text": [
      "Welcome to the RTCGA (version: 1.12.1).\n"
     ]
    }
   ],
   "source": [
    "library(RTCGA)"
   ]
  },
  {
   "cell_type": "code",
   "execution_count": 4,
   "metadata": {},
   "outputs": [],
   "source": [
    "library(RTCGA.mutations)"
   ]
  },
  {
   "cell_type": "code",
   "execution_count": 52,
   "metadata": {},
   "outputs": [
    {
     "name": "stderr",
     "output_type": "stream",
     "text": [
      "Bioconductor version 3.8 (BiocManager 1.30.4), R 3.5.2 (2018-12-20)\n",
      "Installing package(s) 'GenVisR'\n",
      "also installing the dependencies 'FField', 'gtools', 'BSgenome', 'VariantAnnotation'\n",
      "\n"
     ]
    },
    {
     "name": "stdout",
     "output_type": "stream",
     "text": [
      "package 'FField' successfully unpacked and MD5 sums checked\n",
      "package 'gtools' successfully unpacked and MD5 sums checked\n",
      "package 'BSgenome' successfully unpacked and MD5 sums checked\n",
      "package 'VariantAnnotation' successfully unpacked and MD5 sums checked\n",
      "package 'GenVisR' successfully unpacked and MD5 sums checked\n",
      "\n",
      "The downloaded binary packages are in\n",
      "\tC:\\Users\\Victoria\\AppData\\Local\\Temp\\RtmpQXNU1Q\\downloaded_packages\n"
     ]
    },
    {
     "name": "stderr",
     "output_type": "stream",
     "text": [
      "installation path not writeable, unable to update packages: class, codetools,\n",
      "  MASS, Matrix, mgcv, survival\n",
      "Update old packages: 'assertthat', 'callr', 'circlize', 'cli', 'colorspace',\n",
      "  'e1071', 'fs', 'gdtools', 'git2r', 'glue', 'gtable', 'highr', 'openssl',\n",
      "  'pkgbuild', 'polynom', 'processx', 'Rcpp', 'RCurl', 'rlang', 'rstudioapi',\n",
      "  'sys', 'xfun', 'XML', 'zoo'\n"
     ]
    }
   ],
   "source": [
    "BiocManager::install(\"GenVisR\")"
   ]
  },
  {
   "cell_type": "code",
   "execution_count": 55,
   "metadata": {},
   "outputs": [
    {
     "name": "stderr",
     "output_type": "stream",
     "text": [
      "Installing package into 'C:/Users/Victoria/Documents/R/win-library/3.5'\n",
      "(as 'lib' is unspecified)\n"
     ]
    },
    {
     "name": "stdout",
     "output_type": "stream",
     "text": [
      "package 'blob' successfully unpacked and MD5 sums checked\n",
      "\n",
      "The downloaded binary packages are in\n",
      "\tC:\\Users\\Victoria\\AppData\\Local\\Temp\\RtmpQXNU1Q\\downloaded_packages\n"
     ]
    }
   ],
   "source": [
    "install.packages(\"blob\")"
   ]
  },
  {
   "cell_type": "code",
   "execution_count": 56,
   "metadata": {},
   "outputs": [],
   "source": [
    "library(GenVisR)"
   ]
  },
  {
   "cell_type": "code",
   "execution_count": 5,
   "metadata": {},
   "outputs": [
    {
     "data": {
      "text/html": [
       "60000"
      ],
      "text/latex": [
       "60000"
      ],
      "text/markdown": [
       "60000"
      ],
      "text/plain": [
       "[1] 60000"
      ]
     },
     "metadata": {},
     "output_type": "display_data"
    }
   ],
   "source": [
    "memory.limit(size =60000)"
   ]
  },
  {
   "cell_type": "code",
   "execution_count": 6,
   "metadata": {},
   "outputs": [],
   "source": [
    "mutations <- mutationsTCGA(ACC.mutations,BLCA.mutations,BRCA.mutations,\n",
    "                                     CESC.mutations,CHOL.mutations,COAD.mutations,\n",
    "                                     COADREAD.mutations,DLBC.mutations,ESCA.mutations,\n",
    "                                     GBMLGG.mutations,GBM.mutations,HNSC.mutations,\n",
    "                                     KICH.mutations,KIPAN.mutations,KIRC.mutations,\n",
    "                                     KIRP.mutations,LAML.mutations,LGG.mutations,\n",
    "                                     LIHC.mutations,LUAD.mutations,LUSC.mutations,\n",
    "                                     OV.mutations,PAAD.mutations,PCPG.mutations,\n",
    "                                     PRAD.mutations,READ.mutations,SARC.mutations,\n",
    "                                     SKCM.mutations,STAD.mutations,STES.mutations,\n",
    "                                     TGCT.mutations,THCA.mutations,UCEC.mutations,\n",
    "                                     UCS.mutations,UVM.mutations) #extract.cols = c(\"Hugo_Symbol\", \"Variant_Classification\", \"bcr_patient_barcode\"), extract.names = TRUE, unique = TRUE) "
   ]
  },
  {
   "cell_type": "code",
   "execution_count": 7,
   "metadata": {},
   "outputs": [
    {
     "data": {
      "text/html": [
       "<table>\n",
       "<thead><tr><th scope=col>bcr_patient_barcode</th><th scope=col>dataset</th><th scope=col>Hugo_Symbol</th><th scope=col>Variant_Classification</th></tr></thead>\n",
       "<tbody>\n",
       "\t<tr><td>TCGA-OR-A5J1-01  </td><td>ACC.mutations    </td><td>PTCHD2           </td><td>Silent           </td></tr>\n",
       "\t<tr><td>TCGA-OR-A5J1-01  </td><td>ACC.mutations    </td><td>VPS13D           </td><td>Silent           </td></tr>\n",
       "\t<tr><td>TCGA-OR-A5J1-01  </td><td>ACC.mutations    </td><td>PHC2             </td><td>Silent           </td></tr>\n",
       "\t<tr><td>TCGA-OR-A5J1-01  </td><td>ACC.mutations    </td><td>LCE1B            </td><td>In_Frame_Del     </td></tr>\n",
       "\t<tr><td>TCGA-OR-A5J1-01  </td><td>ACC.mutations    </td><td>LCE1A            </td><td>Silent           </td></tr>\n",
       "\t<tr><td>TCGA-OR-A5J1-01  </td><td>ACC.mutations    </td><td>SLC9C2           </td><td>Missense_Mutation</td></tr>\n",
       "</tbody>\n",
       "</table>\n"
      ],
      "text/latex": [
       "\\begin{tabular}{r|llll}\n",
       " bcr\\_patient\\_barcode & dataset & Hugo\\_Symbol & Variant\\_Classification\\\\\n",
       "\\hline\n",
       "\t TCGA-OR-A5J1-01   & ACC.mutations     & PTCHD2            & Silent           \\\\\n",
       "\t TCGA-OR-A5J1-01   & ACC.mutations     & VPS13D            & Silent           \\\\\n",
       "\t TCGA-OR-A5J1-01   & ACC.mutations     & PHC2              & Silent           \\\\\n",
       "\t TCGA-OR-A5J1-01       & ACC.mutations         & LCE1B                 & In\\_Frame\\_Del     \\\\\n",
       "\t TCGA-OR-A5J1-01   & ACC.mutations     & LCE1A             & Silent           \\\\\n",
       "\t TCGA-OR-A5J1-01     & ACC.mutations       & SLC9C2              & Missense\\_Mutation\\\\\n",
       "\\end{tabular}\n"
      ],
      "text/markdown": [
       "\n",
       "| bcr_patient_barcode | dataset | Hugo_Symbol | Variant_Classification |\n",
       "|---|---|---|---|\n",
       "| TCGA-OR-A5J1-01   | ACC.mutations     | PTCHD2            | Silent            |\n",
       "| TCGA-OR-A5J1-01   | ACC.mutations     | VPS13D            | Silent            |\n",
       "| TCGA-OR-A5J1-01   | ACC.mutations     | PHC2              | Silent            |\n",
       "| TCGA-OR-A5J1-01   | ACC.mutations     | LCE1B             | In_Frame_Del      |\n",
       "| TCGA-OR-A5J1-01   | ACC.mutations     | LCE1A             | Silent            |\n",
       "| TCGA-OR-A5J1-01   | ACC.mutations     | SLC9C2            | Missense_Mutation |\n",
       "\n"
      ],
      "text/plain": [
       "  bcr_patient_barcode dataset       Hugo_Symbol Variant_Classification\n",
       "1 TCGA-OR-A5J1-01     ACC.mutations PTCHD2      Silent                \n",
       "2 TCGA-OR-A5J1-01     ACC.mutations VPS13D      Silent                \n",
       "3 TCGA-OR-A5J1-01     ACC.mutations PHC2        Silent                \n",
       "4 TCGA-OR-A5J1-01     ACC.mutations LCE1B       In_Frame_Del          \n",
       "5 TCGA-OR-A5J1-01     ACC.mutations LCE1A       Silent                \n",
       "6 TCGA-OR-A5J1-01     ACC.mutations SLC9C2      Missense_Mutation     "
      ]
     },
     "metadata": {},
     "output_type": "display_data"
    }
   ],
   "source": [
    "head(mutations)"
   ]
  },
  {
   "cell_type": "code",
   "execution_count": 8,
   "metadata": {},
   "outputs": [
    {
     "data": {
      "text/html": [
       "<ol class=list-inline>\n",
       "\t<li>1571882</li>\n",
       "\t<li>4</li>\n",
       "</ol>\n"
      ],
      "text/latex": [
       "\\begin{enumerate*}\n",
       "\\item 1571882\n",
       "\\item 4\n",
       "\\end{enumerate*}\n"
      ],
      "text/markdown": [
       "1. 1571882\n",
       "2. 4\n",
       "\n",
       "\n"
      ],
      "text/plain": [
       "[1] 1571882       4"
      ]
     },
     "metadata": {},
     "output_type": "display_data"
    }
   ],
   "source": [
    "dim(mutations)"
   ]
  },
  {
   "cell_type": "code",
   "execution_count": 9,
   "metadata": {},
   "outputs": [
    {
     "data": {
      "text/html": [
       "<ol class=list-inline>\n",
       "\t<li>'PTCHD2'</li>\n",
       "\t<li>'VPS13D'</li>\n",
       "\t<li>'PHC2'</li>\n",
       "\t<li>'LCE1B'</li>\n",
       "\t<li>'LCE1A'</li>\n",
       "\t<li>'SLC9C2'</li>\n",
       "</ol>\n"
      ],
      "text/latex": [
       "\\begin{enumerate*}\n",
       "\\item 'PTCHD2'\n",
       "\\item 'VPS13D'\n",
       "\\item 'PHC2'\n",
       "\\item 'LCE1B'\n",
       "\\item 'LCE1A'\n",
       "\\item 'SLC9C2'\n",
       "\\end{enumerate*}\n"
      ],
      "text/markdown": [
       "1. 'PTCHD2'\n",
       "2. 'VPS13D'\n",
       "3. 'PHC2'\n",
       "4. 'LCE1B'\n",
       "5. 'LCE1A'\n",
       "6. 'SLC9C2'\n",
       "\n",
       "\n"
      ],
      "text/plain": [
       "[1] \"PTCHD2\" \"VPS13D\" \"PHC2\"   \"LCE1B\"  \"LCE1A\"  \"SLC9C2\""
      ]
     },
     "metadata": {},
     "output_type": "display_data"
    }
   ],
   "source": [
    "head(mutations$Hugo_Symbol)\n"
   ]
  },
  {
   "cell_type": "markdown",
   "metadata": {},
   "source": [
    "Hugo_Symbol == \"ACTR2\" | Hugo_Symbol == \"ACTR3\" | Hugo_Symbol == \"ARPC1A\" | Hugo_Symbol == \"ARPC1B\" | Hugo_Symbol == \"ARPC2\" | Hugo_Symbol == \"ARPC3\" | Hugo_Symbol == \"ARPC4\" | Hugo_Symbol == \"ARPC5\" | Hugo_Symbol == \"ARPC5L\""
   ]
  },
  {
   "cell_type": "code",
   "execution_count": 29,
   "metadata": {},
   "outputs": [],
   "source": [
    "arpmutations <- subset(mutations, Hugo_Symbol == \"ACTR2\" | Hugo_Symbol == \"ACTR3\" | Hugo_Symbol == \"ARPC1A\" | Hugo_Symbol == \"ARPC1B\" | Hugo_Symbol == \"ARPC2\" | Hugo_Symbol == \"ARPC3\" | Hugo_Symbol == \"ARPC4\" | Hugo_Symbol == \"ARPC5\" | Hugo_Symbol == \"ARPC5L\")#, select=c(\"Hugo_Symbol\", \"Variant_Classification\", \"bcr_patient_barcode\"))"
   ]
  },
  {
   "cell_type": "code",
   "execution_count": 30,
   "metadata": {},
   "outputs": [
    {
     "data": {
      "text/html": [
       "<table>\n",
       "<thead><tr><th scope=col>bcr_patient_barcode</th><th scope=col>dataset</th><th scope=col>Hugo_Symbol</th><th scope=col>Variant_Classification</th></tr></thead>\n",
       "<tbody>\n",
       "\t<tr><td>TCGA-OR-A5KB-01  </td><td>ACC.mutations    </td><td>ARPC4            </td><td>Silent           </td></tr>\n",
       "\t<tr><td>TCGA-OR-A5KY-01  </td><td>ACC.mutations    </td><td>ARPC1B           </td><td>Silent           </td></tr>\n",
       "\t<tr><td>TCGA-OR-A5LD-01  </td><td>ACC.mutations    </td><td>ARPC2            </td><td>Frame_Shift_Ins  </td></tr>\n",
       "\t<tr><td>TCGA-BT-A3PK-01  </td><td>BLCA.mutations   </td><td>ARPC2            </td><td>Missense_Mutation</td></tr>\n",
       "\t<tr><td>TCGA-CF-A3MI-01  </td><td>BLCA.mutations   </td><td>ARPC5L           </td><td>Silent           </td></tr>\n",
       "\t<tr><td>TCGA-DK-A2I6-01  </td><td>BLCA.mutations   </td><td>ACTR3            </td><td>Missense_Mutation</td></tr>\n",
       "\t<tr><td>TCGA-DK-A3WW-01  </td><td>BLCA.mutations   </td><td>ARPC2            </td><td>Missense_Mutation</td></tr>\n",
       "\t<tr><td>TCGA-DK-A3X1-01  </td><td>BLCA.mutations   </td><td>ARPC2            </td><td>Missense_Mutation</td></tr>\n",
       "\t<tr><td>TCGA-FD-A3SO-01  </td><td>BLCA.mutations   </td><td>ARPC5            </td><td>Missense_Mutation</td></tr>\n",
       "\t<tr><td>TCGA-FD-A3SS-01  </td><td>BLCA.mutations   </td><td>ARPC3            </td><td>Silent           </td></tr>\n",
       "\t<tr><td>TCGA-K4-A3WS-01  </td><td>BLCA.mutations   </td><td>ARPC4            </td><td>Missense_Mutation</td></tr>\n",
       "\t<tr><td>TCGA-A2-A0T5-01  </td><td>BRCA.mutations   </td><td>ARPC2            </td><td>RNA              </td></tr>\n",
       "\t<tr><td>TCGA-A2-A0YK-01  </td><td>BRCA.mutations   </td><td>ARPC1A           </td><td>Silent           </td></tr>\n",
       "\t<tr><td>TCGA-A7-A26J-01  </td><td>BRCA.mutations   </td><td>ARPC5L           </td><td>In_Frame_Del     </td></tr>\n",
       "\t<tr><td>TCGA-A7-A426-01  </td><td>BRCA.mutations   </td><td>ARPC1A           </td><td>Nonsense_Mutation</td></tr>\n",
       "\t<tr><td>TCGA-A8-A08L-01  </td><td>BRCA.mutations   </td><td>ARPC2            </td><td>Missense_Mutation</td></tr>\n",
       "\t<tr><td>TCGA-A8-A097-01  </td><td>BRCA.mutations   </td><td>ARPC1A           </td><td>Missense_Mutation</td></tr>\n",
       "\t<tr><td>TCGA-A8-A09I-01  </td><td>BRCA.mutations   </td><td>ACTR2            </td><td>Silent           </td></tr>\n",
       "\t<tr><td>TCGA-A8-A09Z-01  </td><td>BRCA.mutations   </td><td>ARPC1A           </td><td>Silent           </td></tr>\n",
       "\t<tr><td>TCGA-AC-A23H-01  </td><td>BRCA.mutations   </td><td>ACTR3            </td><td>Missense_Mutation</td></tr>\n",
       "\t<tr><td>TCGA-AC-A23H-01  </td><td>BRCA.mutations   </td><td>ARPC2            </td><td>Missense_Mutation</td></tr>\n",
       "\t<tr><td>TCGA-AC-A23H-01  </td><td>BRCA.mutations   </td><td>ARPC5            </td><td>Missense_Mutation</td></tr>\n",
       "\t<tr><td>TCGA-AN-A046-01  </td><td>BRCA.mutations   </td><td>ACTR2            </td><td>Missense_Mutation</td></tr>\n",
       "\t<tr><td>TCGA-AN-A046-01  </td><td>BRCA.mutations   </td><td>ACTR3            </td><td>Nonsense_Mutation</td></tr>\n",
       "\t<tr><td>TCGA-AN-A046-01  </td><td>BRCA.mutations   </td><td>ARPC2            </td><td>Nonsense_Mutation</td></tr>\n",
       "\t<tr><td>TCGA-AN-A046-01  </td><td>BRCA.mutations   </td><td>ARPC2            </td><td>RNA              </td></tr>\n",
       "\t<tr><td>TCGA-AN-A04D-01  </td><td>BRCA.mutations   </td><td>ARPC1A           </td><td>Silent           </td></tr>\n",
       "\t<tr><td>TCGA-AN-A0XT-01  </td><td>BRCA.mutations   </td><td>ACTR2            </td><td>RNA              </td></tr>\n",
       "\t<tr><td>TCGA-AQ-A54O-01  </td><td>BRCA.mutations   </td><td>ARPC5            </td><td>RNA              </td></tr>\n",
       "\t<tr><td>TCGA-B6-A0IP-01  </td><td>BRCA.mutations   </td><td>ACTR2            </td><td>Silent           </td></tr>\n",
       "\t<tr><td>...</td><td>...</td><td>...</td><td>...</td></tr>\n",
       "\t<tr><td>TCGA-ZR-A9CJ-01  </td><td>STES.mutations   </td><td>ARPC4            </td><td>Silent           </td></tr>\n",
       "\t<tr><td>TCGA-4K-AA1H-01  </td><td>TGCT.mutations   </td><td>ARPC1B           </td><td>Missense_Mutation</td></tr>\n",
       "\t<tr><td>TCGA-XE-AAOC-01  </td><td>TGCT.mutations   </td><td>ARPC2            </td><td>Missense_Mutation</td></tr>\n",
       "\t<tr><td>TCGA-A5-A0GB-01  </td><td>UCEC.mutations   </td><td>ARPC1B           </td><td>Silent           </td></tr>\n",
       "\t<tr><td>TCGA-A5-A0VP-01  </td><td>UCEC.mutations   </td><td>ARPC1A           </td><td>Missense_Mutation</td></tr>\n",
       "\t<tr><td>TCGA-AP-A051-01  </td><td>UCEC.mutations   </td><td>ARPC3            </td><td>Missense_Mutation</td></tr>\n",
       "\t<tr><td>TCGA-AP-A056-01  </td><td>UCEC.mutations   </td><td>ACTR3            </td><td>Nonsense_Mutation</td></tr>\n",
       "\t<tr><td>TCGA-AP-A059-01  </td><td>UCEC.mutations   </td><td>ACTR2            </td><td>Missense_Mutation</td></tr>\n",
       "\t<tr><td>TCGA-AP-A059-01  </td><td>UCEC.mutations   </td><td>ARPC1B           </td><td>Missense_Mutation</td></tr>\n",
       "\t<tr><td>TCGA-AP-A0LE-01  </td><td>UCEC.mutations   </td><td>ARPC1A           </td><td>Missense_Mutation</td></tr>\n",
       "\t<tr><td>TCGA-AP-A0LM-01  </td><td>UCEC.mutations   </td><td>ACTR2            </td><td>Silent           </td></tr>\n",
       "\t<tr><td>TCGA-AP-A0LM-01  </td><td>UCEC.mutations   </td><td>ARPC2            </td><td>Missense_Mutation</td></tr>\n",
       "\t<tr><td>TCGA-AP-A0LM-01  </td><td>UCEC.mutations   </td><td>ARPC1A           </td><td>Silent           </td></tr>\n",
       "\t<tr><td>TCGA-AX-A0J1-01  </td><td>UCEC.mutations   </td><td>ARPC1A           </td><td>Missense_Mutation</td></tr>\n",
       "\t<tr><td>TCGA-B5-A0JR-01  </td><td>UCEC.mutations   </td><td>ACTR2            </td><td>Missense_Mutation</td></tr>\n",
       "\t<tr><td>TCGA-B5-A0JY-01  </td><td>UCEC.mutations   </td><td>ARPC5            </td><td>Missense_Mutation</td></tr>\n",
       "\t<tr><td>TCGA-B5-A0JY-01  </td><td>UCEC.mutations   </td><td>ARPC1A           </td><td>Missense_Mutation</td></tr>\n",
       "\t<tr><td>TCGA-B5-A0JY-01  </td><td>UCEC.mutations   </td><td>ARPC1B           </td><td>Missense_Mutation</td></tr>\n",
       "\t<tr><td>TCGA-B5-A0K6-01  </td><td>UCEC.mutations   </td><td>ARPC1A           </td><td>Missense_Mutation</td></tr>\n",
       "\t<tr><td>TCGA-B5-A11E-01  </td><td>UCEC.mutations   </td><td>ACTR2            </td><td>Missense_Mutation</td></tr>\n",
       "\t<tr><td>TCGA-BS-A0UF-01  </td><td>UCEC.mutations   </td><td>ACTR2            </td><td>Missense_Mutation</td></tr>\n",
       "\t<tr><td>TCGA-BS-A0UF-01  </td><td>UCEC.mutations   </td><td>ARPC1B           </td><td>Missense_Mutation</td></tr>\n",
       "\t<tr><td>TCGA-D1-A103-01  </td><td>UCEC.mutations   </td><td>ACTR2            </td><td>Missense_Mutation</td></tr>\n",
       "\t<tr><td>TCGA-D1-A15V-01  </td><td>UCEC.mutations   </td><td>ARPC1B           </td><td>Missense_Mutation</td></tr>\n",
       "\t<tr><td>TCGA-D1-A17D-01  </td><td>UCEC.mutations   </td><td>ARPC1A           </td><td>Splice_Site      </td></tr>\n",
       "\t<tr><td>TCGA-D1-A17Q-01  </td><td>UCEC.mutations   </td><td>ARPC1B           </td><td>Missense_Mutation</td></tr>\n",
       "\t<tr><td>TCGA-EY-A1GS-01  </td><td>UCEC.mutations   </td><td>ARPC4            </td><td>Missense_Mutation</td></tr>\n",
       "\t<tr><td>TCGA-N8-A4PP-01  </td><td>UCS.mutations    </td><td>ACTR3            </td><td>Missense_Mutation</td></tr>\n",
       "\t<tr><td>TCGA-V4-A9EY-01  </td><td>UVM.mutations    </td><td>ARPC2            </td><td>Missense_Mutation</td></tr>\n",
       "\t<tr><td>TCGA-VD-AA8O-01  </td><td>UVM.mutations    </td><td>ARPC1B           </td><td>Missense_Mutation</td></tr>\n",
       "</tbody>\n",
       "</table>\n"
      ],
      "text/latex": [
       "\\begin{tabular}{r|llll}\n",
       " bcr\\_patient\\_barcode & dataset & Hugo\\_Symbol & Variant\\_Classification\\\\\n",
       "\\hline\n",
       "\t TCGA-OR-A5KB-01   & ACC.mutations     & ARPC4             & Silent           \\\\\n",
       "\t TCGA-OR-A5KY-01   & ACC.mutations     & ARPC1B            & Silent           \\\\\n",
       "\t TCGA-OR-A5LD-01       & ACC.mutations         & ARPC2                 & Frame\\_Shift\\_Ins  \\\\\n",
       "\t TCGA-BT-A3PK-01     & BLCA.mutations      & ARPC2               & Missense\\_Mutation\\\\\n",
       "\t TCGA-CF-A3MI-01   & BLCA.mutations    & ARPC5L            & Silent           \\\\\n",
       "\t TCGA-DK-A2I6-01     & BLCA.mutations      & ACTR3               & Missense\\_Mutation\\\\\n",
       "\t TCGA-DK-A3WW-01     & BLCA.mutations      & ARPC2               & Missense\\_Mutation\\\\\n",
       "\t TCGA-DK-A3X1-01     & BLCA.mutations      & ARPC2               & Missense\\_Mutation\\\\\n",
       "\t TCGA-FD-A3SO-01     & BLCA.mutations      & ARPC5               & Missense\\_Mutation\\\\\n",
       "\t TCGA-FD-A3SS-01   & BLCA.mutations    & ARPC3             & Silent           \\\\\n",
       "\t TCGA-K4-A3WS-01     & BLCA.mutations      & ARPC4               & Missense\\_Mutation\\\\\n",
       "\t TCGA-A2-A0T5-01   & BRCA.mutations    & ARPC2             & RNA              \\\\\n",
       "\t TCGA-A2-A0YK-01   & BRCA.mutations    & ARPC1A            & Silent           \\\\\n",
       "\t TCGA-A7-A26J-01       & BRCA.mutations        & ARPC5L                & In\\_Frame\\_Del     \\\\\n",
       "\t TCGA-A7-A426-01     & BRCA.mutations      & ARPC1A              & Nonsense\\_Mutation\\\\\n",
       "\t TCGA-A8-A08L-01     & BRCA.mutations      & ARPC2               & Missense\\_Mutation\\\\\n",
       "\t TCGA-A8-A097-01     & BRCA.mutations      & ARPC1A              & Missense\\_Mutation\\\\\n",
       "\t TCGA-A8-A09I-01   & BRCA.mutations    & ACTR2             & Silent           \\\\\n",
       "\t TCGA-A8-A09Z-01   & BRCA.mutations    & ARPC1A            & Silent           \\\\\n",
       "\t TCGA-AC-A23H-01     & BRCA.mutations      & ACTR3               & Missense\\_Mutation\\\\\n",
       "\t TCGA-AC-A23H-01     & BRCA.mutations      & ARPC2               & Missense\\_Mutation\\\\\n",
       "\t TCGA-AC-A23H-01     & BRCA.mutations      & ARPC5               & Missense\\_Mutation\\\\\n",
       "\t TCGA-AN-A046-01     & BRCA.mutations      & ACTR2               & Missense\\_Mutation\\\\\n",
       "\t TCGA-AN-A046-01     & BRCA.mutations      & ACTR3               & Nonsense\\_Mutation\\\\\n",
       "\t TCGA-AN-A046-01     & BRCA.mutations      & ARPC2               & Nonsense\\_Mutation\\\\\n",
       "\t TCGA-AN-A046-01   & BRCA.mutations    & ARPC2             & RNA              \\\\\n",
       "\t TCGA-AN-A04D-01   & BRCA.mutations    & ARPC1A            & Silent           \\\\\n",
       "\t TCGA-AN-A0XT-01   & BRCA.mutations    & ACTR2             & RNA              \\\\\n",
       "\t TCGA-AQ-A54O-01   & BRCA.mutations    & ARPC5             & RNA              \\\\\n",
       "\t TCGA-B6-A0IP-01   & BRCA.mutations    & ACTR2             & Silent           \\\\\n",
       "\t ... & ... & ... & ...\\\\\n",
       "\t TCGA-ZR-A9CJ-01   & STES.mutations    & ARPC4             & Silent           \\\\\n",
       "\t TCGA-4K-AA1H-01     & TGCT.mutations      & ARPC1B              & Missense\\_Mutation\\\\\n",
       "\t TCGA-XE-AAOC-01     & TGCT.mutations      & ARPC2               & Missense\\_Mutation\\\\\n",
       "\t TCGA-A5-A0GB-01   & UCEC.mutations    & ARPC1B            & Silent           \\\\\n",
       "\t TCGA-A5-A0VP-01     & UCEC.mutations      & ARPC1A              & Missense\\_Mutation\\\\\n",
       "\t TCGA-AP-A051-01     & UCEC.mutations      & ARPC3               & Missense\\_Mutation\\\\\n",
       "\t TCGA-AP-A056-01     & UCEC.mutations      & ACTR3               & Nonsense\\_Mutation\\\\\n",
       "\t TCGA-AP-A059-01     & UCEC.mutations      & ACTR2               & Missense\\_Mutation\\\\\n",
       "\t TCGA-AP-A059-01     & UCEC.mutations      & ARPC1B              & Missense\\_Mutation\\\\\n",
       "\t TCGA-AP-A0LE-01     & UCEC.mutations      & ARPC1A              & Missense\\_Mutation\\\\\n",
       "\t TCGA-AP-A0LM-01   & UCEC.mutations    & ACTR2             & Silent           \\\\\n",
       "\t TCGA-AP-A0LM-01     & UCEC.mutations      & ARPC2               & Missense\\_Mutation\\\\\n",
       "\t TCGA-AP-A0LM-01   & UCEC.mutations    & ARPC1A            & Silent           \\\\\n",
       "\t TCGA-AX-A0J1-01     & UCEC.mutations      & ARPC1A              & Missense\\_Mutation\\\\\n",
       "\t TCGA-B5-A0JR-01     & UCEC.mutations      & ACTR2               & Missense\\_Mutation\\\\\n",
       "\t TCGA-B5-A0JY-01     & UCEC.mutations      & ARPC5               & Missense\\_Mutation\\\\\n",
       "\t TCGA-B5-A0JY-01     & UCEC.mutations      & ARPC1A              & Missense\\_Mutation\\\\\n",
       "\t TCGA-B5-A0JY-01     & UCEC.mutations      & ARPC1B              & Missense\\_Mutation\\\\\n",
       "\t TCGA-B5-A0K6-01     & UCEC.mutations      & ARPC1A              & Missense\\_Mutation\\\\\n",
       "\t TCGA-B5-A11E-01     & UCEC.mutations      & ACTR2               & Missense\\_Mutation\\\\\n",
       "\t TCGA-BS-A0UF-01     & UCEC.mutations      & ACTR2               & Missense\\_Mutation\\\\\n",
       "\t TCGA-BS-A0UF-01     & UCEC.mutations      & ARPC1B              & Missense\\_Mutation\\\\\n",
       "\t TCGA-D1-A103-01     & UCEC.mutations      & ACTR2               & Missense\\_Mutation\\\\\n",
       "\t TCGA-D1-A15V-01     & UCEC.mutations      & ARPC1B              & Missense\\_Mutation\\\\\n",
       "\t TCGA-D1-A17D-01     & UCEC.mutations      & ARPC1A              & Splice\\_Site      \\\\\n",
       "\t TCGA-D1-A17Q-01     & UCEC.mutations      & ARPC1B              & Missense\\_Mutation\\\\\n",
       "\t TCGA-EY-A1GS-01     & UCEC.mutations      & ARPC4               & Missense\\_Mutation\\\\\n",
       "\t TCGA-N8-A4PP-01     & UCS.mutations       & ACTR3               & Missense\\_Mutation\\\\\n",
       "\t TCGA-V4-A9EY-01     & UVM.mutations       & ARPC2               & Missense\\_Mutation\\\\\n",
       "\t TCGA-VD-AA8O-01     & UVM.mutations       & ARPC1B              & Missense\\_Mutation\\\\\n",
       "\\end{tabular}\n"
      ],
      "text/markdown": [
       "\n",
       "| bcr_patient_barcode | dataset | Hugo_Symbol | Variant_Classification |\n",
       "|---|---|---|---|\n",
       "| TCGA-OR-A5KB-01   | ACC.mutations     | ARPC4             | Silent            |\n",
       "| TCGA-OR-A5KY-01   | ACC.mutations     | ARPC1B            | Silent            |\n",
       "| TCGA-OR-A5LD-01   | ACC.mutations     | ARPC2             | Frame_Shift_Ins   |\n",
       "| TCGA-BT-A3PK-01   | BLCA.mutations    | ARPC2             | Missense_Mutation |\n",
       "| TCGA-CF-A3MI-01   | BLCA.mutations    | ARPC5L            | Silent            |\n",
       "| TCGA-DK-A2I6-01   | BLCA.mutations    | ACTR3             | Missense_Mutation |\n",
       "| TCGA-DK-A3WW-01   | BLCA.mutations    | ARPC2             | Missense_Mutation |\n",
       "| TCGA-DK-A3X1-01   | BLCA.mutations    | ARPC2             | Missense_Mutation |\n",
       "| TCGA-FD-A3SO-01   | BLCA.mutations    | ARPC5             | Missense_Mutation |\n",
       "| TCGA-FD-A3SS-01   | BLCA.mutations    | ARPC3             | Silent            |\n",
       "| TCGA-K4-A3WS-01   | BLCA.mutations    | ARPC4             | Missense_Mutation |\n",
       "| TCGA-A2-A0T5-01   | BRCA.mutations    | ARPC2             | RNA               |\n",
       "| TCGA-A2-A0YK-01   | BRCA.mutations    | ARPC1A            | Silent            |\n",
       "| TCGA-A7-A26J-01   | BRCA.mutations    | ARPC5L            | In_Frame_Del      |\n",
       "| TCGA-A7-A426-01   | BRCA.mutations    | ARPC1A            | Nonsense_Mutation |\n",
       "| TCGA-A8-A08L-01   | BRCA.mutations    | ARPC2             | Missense_Mutation |\n",
       "| TCGA-A8-A097-01   | BRCA.mutations    | ARPC1A            | Missense_Mutation |\n",
       "| TCGA-A8-A09I-01   | BRCA.mutations    | ACTR2             | Silent            |\n",
       "| TCGA-A8-A09Z-01   | BRCA.mutations    | ARPC1A            | Silent            |\n",
       "| TCGA-AC-A23H-01   | BRCA.mutations    | ACTR3             | Missense_Mutation |\n",
       "| TCGA-AC-A23H-01   | BRCA.mutations    | ARPC2             | Missense_Mutation |\n",
       "| TCGA-AC-A23H-01   | BRCA.mutations    | ARPC5             | Missense_Mutation |\n",
       "| TCGA-AN-A046-01   | BRCA.mutations    | ACTR2             | Missense_Mutation |\n",
       "| TCGA-AN-A046-01   | BRCA.mutations    | ACTR3             | Nonsense_Mutation |\n",
       "| TCGA-AN-A046-01   | BRCA.mutations    | ARPC2             | Nonsense_Mutation |\n",
       "| TCGA-AN-A046-01   | BRCA.mutations    | ARPC2             | RNA               |\n",
       "| TCGA-AN-A04D-01   | BRCA.mutations    | ARPC1A            | Silent            |\n",
       "| TCGA-AN-A0XT-01   | BRCA.mutations    | ACTR2             | RNA               |\n",
       "| TCGA-AQ-A54O-01   | BRCA.mutations    | ARPC5             | RNA               |\n",
       "| TCGA-B6-A0IP-01   | BRCA.mutations    | ACTR2             | Silent            |\n",
       "| ... | ... | ... | ... |\n",
       "| TCGA-ZR-A9CJ-01   | STES.mutations    | ARPC4             | Silent            |\n",
       "| TCGA-4K-AA1H-01   | TGCT.mutations    | ARPC1B            | Missense_Mutation |\n",
       "| TCGA-XE-AAOC-01   | TGCT.mutations    | ARPC2             | Missense_Mutation |\n",
       "| TCGA-A5-A0GB-01   | UCEC.mutations    | ARPC1B            | Silent            |\n",
       "| TCGA-A5-A0VP-01   | UCEC.mutations    | ARPC1A            | Missense_Mutation |\n",
       "| TCGA-AP-A051-01   | UCEC.mutations    | ARPC3             | Missense_Mutation |\n",
       "| TCGA-AP-A056-01   | UCEC.mutations    | ACTR3             | Nonsense_Mutation |\n",
       "| TCGA-AP-A059-01   | UCEC.mutations    | ACTR2             | Missense_Mutation |\n",
       "| TCGA-AP-A059-01   | UCEC.mutations    | ARPC1B            | Missense_Mutation |\n",
       "| TCGA-AP-A0LE-01   | UCEC.mutations    | ARPC1A            | Missense_Mutation |\n",
       "| TCGA-AP-A0LM-01   | UCEC.mutations    | ACTR2             | Silent            |\n",
       "| TCGA-AP-A0LM-01   | UCEC.mutations    | ARPC2             | Missense_Mutation |\n",
       "| TCGA-AP-A0LM-01   | UCEC.mutations    | ARPC1A            | Silent            |\n",
       "| TCGA-AX-A0J1-01   | UCEC.mutations    | ARPC1A            | Missense_Mutation |\n",
       "| TCGA-B5-A0JR-01   | UCEC.mutations    | ACTR2             | Missense_Mutation |\n",
       "| TCGA-B5-A0JY-01   | UCEC.mutations    | ARPC5             | Missense_Mutation |\n",
       "| TCGA-B5-A0JY-01   | UCEC.mutations    | ARPC1A            | Missense_Mutation |\n",
       "| TCGA-B5-A0JY-01   | UCEC.mutations    | ARPC1B            | Missense_Mutation |\n",
       "| TCGA-B5-A0K6-01   | UCEC.mutations    | ARPC1A            | Missense_Mutation |\n",
       "| TCGA-B5-A11E-01   | UCEC.mutations    | ACTR2             | Missense_Mutation |\n",
       "| TCGA-BS-A0UF-01   | UCEC.mutations    | ACTR2             | Missense_Mutation |\n",
       "| TCGA-BS-A0UF-01   | UCEC.mutations    | ARPC1B            | Missense_Mutation |\n",
       "| TCGA-D1-A103-01   | UCEC.mutations    | ACTR2             | Missense_Mutation |\n",
       "| TCGA-D1-A15V-01   | UCEC.mutations    | ARPC1B            | Missense_Mutation |\n",
       "| TCGA-D1-A17D-01   | UCEC.mutations    | ARPC1A            | Splice_Site       |\n",
       "| TCGA-D1-A17Q-01   | UCEC.mutations    | ARPC1B            | Missense_Mutation |\n",
       "| TCGA-EY-A1GS-01   | UCEC.mutations    | ARPC4             | Missense_Mutation |\n",
       "| TCGA-N8-A4PP-01   | UCS.mutations     | ACTR3             | Missense_Mutation |\n",
       "| TCGA-V4-A9EY-01   | UVM.mutations     | ARPC2             | Missense_Mutation |\n",
       "| TCGA-VD-AA8O-01   | UVM.mutations     | ARPC1B            | Missense_Mutation |\n",
       "\n"
      ],
      "text/plain": [
       "    bcr_patient_barcode dataset        Hugo_Symbol Variant_Classification\n",
       "1   TCGA-OR-A5KB-01     ACC.mutations  ARPC4       Silent                \n",
       "2   TCGA-OR-A5KY-01     ACC.mutations  ARPC1B      Silent                \n",
       "3   TCGA-OR-A5LD-01     ACC.mutations  ARPC2       Frame_Shift_Ins       \n",
       "4   TCGA-BT-A3PK-01     BLCA.mutations ARPC2       Missense_Mutation     \n",
       "5   TCGA-CF-A3MI-01     BLCA.mutations ARPC5L      Silent                \n",
       "6   TCGA-DK-A2I6-01     BLCA.mutations ACTR3       Missense_Mutation     \n",
       "7   TCGA-DK-A3WW-01     BLCA.mutations ARPC2       Missense_Mutation     \n",
       "8   TCGA-DK-A3X1-01     BLCA.mutations ARPC2       Missense_Mutation     \n",
       "9   TCGA-FD-A3SO-01     BLCA.mutations ARPC5       Missense_Mutation     \n",
       "10  TCGA-FD-A3SS-01     BLCA.mutations ARPC3       Silent                \n",
       "11  TCGA-K4-A3WS-01     BLCA.mutations ARPC4       Missense_Mutation     \n",
       "12  TCGA-A2-A0T5-01     BRCA.mutations ARPC2       RNA                   \n",
       "13  TCGA-A2-A0YK-01     BRCA.mutations ARPC1A      Silent                \n",
       "14  TCGA-A7-A26J-01     BRCA.mutations ARPC5L      In_Frame_Del          \n",
       "15  TCGA-A7-A426-01     BRCA.mutations ARPC1A      Nonsense_Mutation     \n",
       "16  TCGA-A8-A08L-01     BRCA.mutations ARPC2       Missense_Mutation     \n",
       "17  TCGA-A8-A097-01     BRCA.mutations ARPC1A      Missense_Mutation     \n",
       "18  TCGA-A8-A09I-01     BRCA.mutations ACTR2       Silent                \n",
       "19  TCGA-A8-A09Z-01     BRCA.mutations ARPC1A      Silent                \n",
       "20  TCGA-AC-A23H-01     BRCA.mutations ACTR3       Missense_Mutation     \n",
       "21  TCGA-AC-A23H-01     BRCA.mutations ARPC2       Missense_Mutation     \n",
       "22  TCGA-AC-A23H-01     BRCA.mutations ARPC5       Missense_Mutation     \n",
       "23  TCGA-AN-A046-01     BRCA.mutations ACTR2       Missense_Mutation     \n",
       "24  TCGA-AN-A046-01     BRCA.mutations ACTR3       Nonsense_Mutation     \n",
       "25  TCGA-AN-A046-01     BRCA.mutations ARPC2       Nonsense_Mutation     \n",
       "26  TCGA-AN-A046-01     BRCA.mutations ARPC2       RNA                   \n",
       "27  TCGA-AN-A04D-01     BRCA.mutations ARPC1A      Silent                \n",
       "28  TCGA-AN-A0XT-01     BRCA.mutations ACTR2       RNA                   \n",
       "29  TCGA-AQ-A54O-01     BRCA.mutations ARPC5       RNA                   \n",
       "30  TCGA-B6-A0IP-01     BRCA.mutations ACTR2       Silent                \n",
       "... ...                 ...            ...         ...                   \n",
       "253 TCGA-ZR-A9CJ-01     STES.mutations ARPC4       Silent                \n",
       "254 TCGA-4K-AA1H-01     TGCT.mutations ARPC1B      Missense_Mutation     \n",
       "255 TCGA-XE-AAOC-01     TGCT.mutations ARPC2       Missense_Mutation     \n",
       "256 TCGA-A5-A0GB-01     UCEC.mutations ARPC1B      Silent                \n",
       "257 TCGA-A5-A0VP-01     UCEC.mutations ARPC1A      Missense_Mutation     \n",
       "258 TCGA-AP-A051-01     UCEC.mutations ARPC3       Missense_Mutation     \n",
       "259 TCGA-AP-A056-01     UCEC.mutations ACTR3       Nonsense_Mutation     \n",
       "260 TCGA-AP-A059-01     UCEC.mutations ACTR2       Missense_Mutation     \n",
       "261 TCGA-AP-A059-01     UCEC.mutations ARPC1B      Missense_Mutation     \n",
       "262 TCGA-AP-A0LE-01     UCEC.mutations ARPC1A      Missense_Mutation     \n",
       "263 TCGA-AP-A0LM-01     UCEC.mutations ACTR2       Silent                \n",
       "264 TCGA-AP-A0LM-01     UCEC.mutations ARPC2       Missense_Mutation     \n",
       "265 TCGA-AP-A0LM-01     UCEC.mutations ARPC1A      Silent                \n",
       "266 TCGA-AX-A0J1-01     UCEC.mutations ARPC1A      Missense_Mutation     \n",
       "267 TCGA-B5-A0JR-01     UCEC.mutations ACTR2       Missense_Mutation     \n",
       "268 TCGA-B5-A0JY-01     UCEC.mutations ARPC5       Missense_Mutation     \n",
       "269 TCGA-B5-A0JY-01     UCEC.mutations ARPC1A      Missense_Mutation     \n",
       "270 TCGA-B5-A0JY-01     UCEC.mutations ARPC1B      Missense_Mutation     \n",
       "271 TCGA-B5-A0K6-01     UCEC.mutations ARPC1A      Missense_Mutation     \n",
       "272 TCGA-B5-A11E-01     UCEC.mutations ACTR2       Missense_Mutation     \n",
       "273 TCGA-BS-A0UF-01     UCEC.mutations ACTR2       Missense_Mutation     \n",
       "274 TCGA-BS-A0UF-01     UCEC.mutations ARPC1B      Missense_Mutation     \n",
       "275 TCGA-D1-A103-01     UCEC.mutations ACTR2       Missense_Mutation     \n",
       "276 TCGA-D1-A15V-01     UCEC.mutations ARPC1B      Missense_Mutation     \n",
       "277 TCGA-D1-A17D-01     UCEC.mutations ARPC1A      Splice_Site           \n",
       "278 TCGA-D1-A17Q-01     UCEC.mutations ARPC1B      Missense_Mutation     \n",
       "279 TCGA-EY-A1GS-01     UCEC.mutations ARPC4       Missense_Mutation     \n",
       "280 TCGA-N8-A4PP-01     UCS.mutations  ACTR3       Missense_Mutation     \n",
       "281 TCGA-V4-A9EY-01     UVM.mutations  ARPC2       Missense_Mutation     \n",
       "282 TCGA-VD-AA8O-01     UVM.mutations  ARPC1B      Missense_Mutation     "
      ]
     },
     "metadata": {},
     "output_type": "display_data"
    }
   ],
   "source": [
    "arpmutations"
   ]
  },
  {
   "cell_type": "code",
   "execution_count": 31,
   "metadata": {},
   "outputs": [
    {
     "data": {
      "text/html": [
       "<ol class=list-inline>\n",
       "\t<li>282</li>\n",
       "\t<li>4</li>\n",
       "</ol>\n"
      ],
      "text/latex": [
       "\\begin{enumerate*}\n",
       "\\item 282\n",
       "\\item 4\n",
       "\\end{enumerate*}\n"
      ],
      "text/markdown": [
       "1. 282\n",
       "2. 4\n",
       "\n",
       "\n"
      ],
      "text/plain": [
       "[1] 282   4"
      ]
     },
     "metadata": {},
     "output_type": "display_data"
    }
   ],
   "source": [
    "dim(arpmutations)"
   ]
  },
  {
   "cell_type": "code",
   "execution_count": 41,
   "metadata": {},
   "outputs": [],
   "source": [
    "frequentgenmutations <- count(arpmutations, \"Hugo_Symbol\")"
   ]
  },
  {
   "cell_type": "code",
   "execution_count": 42,
   "metadata": {},
   "outputs": [
    {
     "data": {
      "text/html": [
       "<table>\n",
       "<thead><tr><th scope=col>Hugo_Symbol</th><th scope=col>freq</th></tr></thead>\n",
       "<tbody>\n",
       "\t<tr><td>ACTR2 </td><td>39    </td></tr>\n",
       "\t<tr><td>ACTR3 </td><td>32    </td></tr>\n",
       "\t<tr><td>ARPC1A</td><td>45    </td></tr>\n",
       "\t<tr><td>ARPC1B</td><td>51    </td></tr>\n",
       "\t<tr><td>ARPC2 </td><td>56    </td></tr>\n",
       "\t<tr><td>ARPC3 </td><td> 8    </td></tr>\n",
       "\t<tr><td>ARPC4 </td><td>15    </td></tr>\n",
       "\t<tr><td>ARPC5 </td><td>20    </td></tr>\n",
       "\t<tr><td>ARPC5L</td><td>16    </td></tr>\n",
       "</tbody>\n",
       "</table>\n"
      ],
      "text/latex": [
       "\\begin{tabular}{r|ll}\n",
       " Hugo\\_Symbol & freq\\\\\n",
       "\\hline\n",
       "\t ACTR2  & 39    \\\\\n",
       "\t ACTR3  & 32    \\\\\n",
       "\t ARPC1A & 45    \\\\\n",
       "\t ARPC1B & 51    \\\\\n",
       "\t ARPC2  & 56    \\\\\n",
       "\t ARPC3  &  8    \\\\\n",
       "\t ARPC4  & 15    \\\\\n",
       "\t ARPC5  & 20    \\\\\n",
       "\t ARPC5L & 16    \\\\\n",
       "\\end{tabular}\n"
      ],
      "text/markdown": [
       "\n",
       "| Hugo_Symbol | freq |\n",
       "|---|---|\n",
       "| ACTR2  | 39     |\n",
       "| ACTR3  | 32     |\n",
       "| ARPC1A | 45     |\n",
       "| ARPC1B | 51     |\n",
       "| ARPC2  | 56     |\n",
       "| ARPC3  |  8     |\n",
       "| ARPC4  | 15     |\n",
       "| ARPC5  | 20     |\n",
       "| ARPC5L | 16     |\n",
       "\n"
      ],
      "text/plain": [
       "  Hugo_Symbol freq\n",
       "1 ACTR2       39  \n",
       "2 ACTR3       32  \n",
       "3 ARPC1A      45  \n",
       "4 ARPC1B      51  \n",
       "5 ARPC2       56  \n",
       "6 ARPC3        8  \n",
       "7 ARPC4       15  \n",
       "8 ARPC5       20  \n",
       "9 ARPC5L      16  "
      ]
     },
     "metadata": {},
     "output_type": "display_data"
    }
   ],
   "source": [
    "frequentgenmutations\n"
   ]
  },
  {
   "cell_type": "code",
   "execution_count": 48,
   "metadata": {},
   "outputs": [
    {
     "data": {
      "image/png": "[encoded data removed]",
      "text/plain": [
       "plot without title"
      ]
     },
     "metadata": {},
     "output_type": "display_data"
    }
   ],
   "source": [
    "ggplot(frequentgenmutations, aes(x=Hugo_Symbol, y=freq)) + \n",
    "  geom_bar(stat=\"identity\", width=.5, fill=\"tomato3\") + \n",
    "  labs(title=\"Frequence of gene mutations\") + \n",
    "  theme(axis.text.x = element_text(angle=65, vjust=0.6))"
   ]
  },
  {
   "cell_type": "code",
   "execution_count": 49,
   "metadata": {},
   "outputs": [],
   "source": [
    "freauentmutationstype <- count(arpmutations, \"Variant_Classification\")"
   ]
  },
  {
   "cell_type": "code",
   "execution_count": 50,
   "metadata": {},
   "outputs": [
    {
     "data": {
      "image/png": "[encoded data removed]",
      "text/plain": [
       "plot without title"
      ]
     },
     "metadata": {},
     "output_type": "display_data"
    }
   ],
   "source": [
    "ggplot(freauentmutationstype, aes(x=Variant_Classification, y=freq)) + \n",
    "  geom_bar(stat=\"identity\", width=.5, fill=\"tomato3\") + \n",
    "  labs(title=\"Frequence of gene mutations\") + \n",
    "  theme(axis.text.x = element_text(angle=65, vjust=0.6))"
   ]
  },
  {
   "cell_type": "markdown",
   "metadata": {},
   "source": [
    "# Visualisation of mutations"
   ]
  },
  {
   "cell_type": "code",
   "execution_count": 59,
   "metadata": {},
   "outputs": [
    {
     "name": "stderr",
     "output_type": "stream",
     "text": [
      "Checking if input is properly formatted...\n",
      "Calculating frequency of mutations...\n",
      "setting mutation hierarchy...\n"
     ]
    },
    {
     "data": {
      "text/plain": [
       "NULL"
      ]
     },
     "metadata": {},
     "output_type": "display_data"
    },
    {
     "data": {
      "image/png": "[encoded data removed]",
      "text/plain": [
       "plot without title"
      ]
     },
     "metadata": {},
     "output_type": "display_data"
    }
   ],
   "source": [
    "waterfall(brcaMAF, fileType=\"MAF\")"
   ]
  },
  {
   "cell_type": "code",
   "execution_count": 100,
   "metadata": {},
   "outputs": [
    {
     "name": "stderr",
     "output_type": "stream",
     "text": [
      "Checking if input is properly formatted...\n",
      "Calculating frequency of mutations...\n",
      "Removing genes not in: ACTR2, ACTR3, ARPC1A, ARPC1B, ARPC2, ARPC3, ARPC4, ARPC5, ARPC5L\n",
      "Warning message in waterfall_geneAlt(data_frame, plotGenes):\n",
      "\"genes supplied in plotGenes contains an element not found in x or it's subsequent subsets\"setting mutation hierarchy...\n"
     ]
    },
    {
     "data": {
      "text/plain": [
       "NULL"
      ]
     },
     "metadata": {},
     "output_type": "display_data"
    },
    {
     "data": {
      "image/png": "[encoded data removed]",
      "text/plain": [
       "plot without title"
      ]
     },
     "metadata": {},
     "output_type": "display_data"
    }
   ],
   "source": [
    "waterfall(BRCA.mutations,  plotGenes = c(\"ACTR2\", \"ACTR3\", \"ARPC1A\", \"ARPC1B\", \"ARPC2\", \"ARPC3\", \"ARPC4\", \"ARPC5\", \"ARPC5L\"))"
   ]
  },
  {
   "cell_type": "code",
   "execution_count": 101,
   "metadata": {},
   "outputs": [
    {
     "data": {
      "text/html": [
       "<ol class=list-inline>\n",
       "\t<li>'ACC'</li>\n",
       "\t<li>'BLCA'</li>\n",
       "\t<li>'BRCA'</li>\n",
       "\t<li>'CESC'</li>\n",
       "\t<li>'CHOL'</li>\n",
       "\t<li>'COAD'</li>\n",
       "\t<li>'COADREAD'</li>\n",
       "\t<li>'DLBC'</li>\n",
       "\t<li>'ESCA'</li>\n",
       "\t<li>'FPPP'</li>\n",
       "\t<li>'GBM'</li>\n",
       "\t<li>'GBMLGG'</li>\n",
       "\t<li>'HNSC'</li>\n",
       "\t<li>'KICH'</li>\n",
       "\t<li>'KIPAN'</li>\n",
       "\t<li>'KIRC'</li>\n",
       "\t<li>'KIRP'</li>\n",
       "\t<li>'LAML'</li>\n",
       "\t<li>'LGG'</li>\n",
       "\t<li>'LIHC'</li>\n",
       "\t<li>'LUAD'</li>\n",
       "\t<li>'LUSC'</li>\n",
       "\t<li>'MESO'</li>\n",
       "\t<li>'OV'</li>\n",
       "\t<li>'PAAD'</li>\n",
       "\t<li>'PCPG'</li>\n",
       "\t<li>'PRAD'</li>\n",
       "\t<li>'READ'</li>\n",
       "\t<li>'SARC'</li>\n",
       "\t<li>'SKCM'</li>\n",
       "\t<li>'STAD'</li>\n",
       "\t<li>'STES'</li>\n",
       "\t<li>'TGCT'</li>\n",
       "\t<li>'THCA'</li>\n",
       "\t<li>'THYM'</li>\n",
       "\t<li>'UCEC'</li>\n",
       "\t<li>'UCS'</li>\n",
       "\t<li>'UVM'</li>\n",
       "</ol>\n"
      ],
      "text/latex": [
       "\\begin{enumerate*}\n",
       "\\item 'ACC'\n",
       "\\item 'BLCA'\n",
       "\\item 'BRCA'\n",
       "\\item 'CESC'\n",
       "\\item 'CHOL'\n",
       "\\item 'COAD'\n",
       "\\item 'COADREAD'\n",
       "\\item 'DLBC'\n",
       "\\item 'ESCA'\n",
       "\\item 'FPPP'\n",
       "\\item 'GBM'\n",
       "\\item 'GBMLGG'\n",
       "\\item 'HNSC'\n",
       "\\item 'KICH'\n",
       "\\item 'KIPAN'\n",
       "\\item 'KIRC'\n",
       "\\item 'KIRP'\n",
       "\\item 'LAML'\n",
       "\\item 'LGG'\n",
       "\\item 'LIHC'\n",
       "\\item 'LUAD'\n",
       "\\item 'LUSC'\n",
       "\\item 'MESO'\n",
       "\\item 'OV'\n",
       "\\item 'PAAD'\n",
       "\\item 'PCPG'\n",
       "\\item 'PRAD'\n",
       "\\item 'READ'\n",
       "\\item 'SARC'\n",
       "\\item 'SKCM'\n",
       "\\item 'STAD'\n",
       "\\item 'STES'\n",
       "\\item 'TGCT'\n",
       "\\item 'THCA'\n",
       "\\item 'THYM'\n",
       "\\item 'UCEC'\n",
       "\\item 'UCS'\n",
       "\\item 'UVM'\n",
       "\\end{enumerate*}\n"
      ],
      "text/markdown": [
       "1. 'ACC'\n",
       "2. 'BLCA'\n",
       "3. 'BRCA'\n",
       "4. 'CESC'\n",
       "5. 'CHOL'\n",
       "6. 'COAD'\n",
       "7. 'COADREAD'\n",
       "8. 'DLBC'\n",
       "9. 'ESCA'\n",
       "10. 'FPPP'\n",
       "11. 'GBM'\n",
       "12. 'GBMLGG'\n",
       "13. 'HNSC'\n",
       "14. 'KICH'\n",
       "15. 'KIPAN'\n",
       "16. 'KIRC'\n",
       "17. 'KIRP'\n",
       "18. 'LAML'\n",
       "19. 'LGG'\n",
       "20. 'LIHC'\n",
       "21. 'LUAD'\n",
       "22. 'LUSC'\n",
       "23. 'MESO'\n",
       "24. 'OV'\n",
       "25. 'PAAD'\n",
       "26. 'PCPG'\n",
       "27. 'PRAD'\n",
       "28. 'READ'\n",
       "29. 'SARC'\n",
       "30. 'SKCM'\n",
       "31. 'STAD'\n",
       "32. 'STES'\n",
       "33. 'TGCT'\n",
       "34. 'THCA'\n",
       "35. 'THYM'\n",
       "36. 'UCEC'\n",
       "37. 'UCS'\n",
       "38. 'UVM'\n",
       "\n",
       "\n"
      ],
      "text/plain": [
       " [1] \"ACC\"      \"BLCA\"     \"BRCA\"     \"CESC\"     \"CHOL\"     \"COAD\"    \n",
       " [7] \"COADREAD\" \"DLBC\"     \"ESCA\"     \"FPPP\"     \"GBM\"      \"GBMLGG\"  \n",
       "[13] \"HNSC\"     \"KICH\"     \"KIPAN\"    \"KIRC\"     \"KIRP\"     \"LAML\"    \n",
       "[19] \"LGG\"      \"LIHC\"     \"LUAD\"     \"LUSC\"     \"MESO\"     \"OV\"      \n",
       "[25] \"PAAD\"     \"PCPG\"     \"PRAD\"     \"READ\"     \"SARC\"     \"SKCM\"    \n",
       "[31] \"STAD\"     \"STES\"     \"TGCT\"     \"THCA\"     \"THYM\"     \"UCEC\"    \n",
       "[37] \"UCS\"      \"UVM\"     "
      ]
     },
     "metadata": {},
     "output_type": "display_data"
    }
   ],
   "source": [
    "(cohorts <- infoTCGA() %>% \n",
    "   rownames() %>% \n",
    "   sub(\"-counts\", \"\", x=.))"
   ]
  },
  {
   "cell_type": "code",
   "execution_count": 116,
   "metadata": {},
   "outputs": [
    {
     "name": "stdout",
     "output_type": "stream",
     "text": [
      "*** Importing from dataframe\n",
      "Loading MAF dataframe ...DONE\n",
      "*** Mutations names: using Hugo_Symbol\n",
      "*** Using full MAF: #entries  16 \n",
      "*** MAF report: TCGA=TRUE\n",
      "Type of annotated mutations: \n",
      "[1] Missense_Mutation Silent            Nonsense_Mutation Frame_Shift_Ins  \n",
      "Levels: Frame_Shift_Ins Missense_Mutation Nonsense_Mutation Silent\n",
      "*** [merge.mutation.types = T] Mutations will be merged and annotated as 'Mutation'\n",
      "Number of samples: 3 \n",
      "[TCGA = TRUE] Number of TCGA patients: 3 \n",
      "Number of annotated mutations: 16 \n",
      "Mutations annotated with \"Valid\" flag (%): 88 \n",
      "Number of genes (Hugo_Symbol): 13 \n",
      "Starting conversion from MAF to 0/1 mutation profiles (1 = mutation) :3 x 13 \n",
      "................\n",
      "Starting conversion from MAF to TRONCO data type.\n"
     ]
    }
   ],
   "source": [
    "data(maf)\n",
    "mutations = import.MAF(maf)\n",
    "mutations = annotate.description(mutations, 'Example MAF')\n",
    "mutations = TCGA.shorten.barcodes(mutations)\n",
    "#oncoprint(mutations)"
   ]
  },
  {
   "cell_type": "code",
   "execution_count": 117,
   "metadata": {},
   "outputs": [
    {
     "data": {
      "text/html": [
       "<dl>\n",
       "\t<dt>$genotypes</dt>\n",
       "\t\t<dd><table>\n",
       "<thead><tr><th></th><th scope=col>G1</th><th scope=col>G2</th><th scope=col>G3</th><th scope=col>G4</th><th scope=col>G5</th><th scope=col>G6</th><th scope=col>G7</th><th scope=col>G8</th><th scope=col>G9</th><th scope=col>G10</th><th scope=col>G11</th><th scope=col>G12</th><th scope=col>G13</th></tr></thead>\n",
       "<tbody>\n",
       "\t<tr><th scope=row>TCGA-A6-2672</th><td>1</td><td>0</td><td>1</td><td>1</td><td>1</td><td>0</td><td>0</td><td>0</td><td>0</td><td>0</td><td>0</td><td>0</td><td>0</td></tr>\n",
       "\t<tr><th scope=row>TCGA-A6-2674</th><td>0</td><td>0</td><td>0</td><td>0</td><td>0</td><td>0</td><td>0</td><td>0</td><td>0</td><td>1</td><td>1</td><td>1</td><td>1</td></tr>\n",
       "\t<tr><th scope=row>TCGA-A6-2676</th><td>1</td><td>1</td><td>1</td><td>0</td><td>0</td><td>1</td><td>1</td><td>1</td><td>1</td><td>0</td><td>0</td><td>0</td><td>0</td></tr>\n",
       "</tbody>\n",
       "</table>\n",
       "</dd>\n",
       "\t<dt>$annotations</dt>\n",
       "\t\t<dd><table>\n",
       "<thead><tr><th></th><th scope=col>type</th><th scope=col>event</th></tr></thead>\n",
       "<tbody>\n",
       "\t<tr><th scope=row>G1</th><td>Mutation</td><td>A2BP1   </td></tr>\n",
       "\t<tr><th scope=row>G2</th><td>Mutation</td><td>ABCA10  </td></tr>\n",
       "\t<tr><th scope=row>G3</th><td>Mutation</td><td>ABCA3   </td></tr>\n",
       "\t<tr><th scope=row>G4</th><td>Mutation</td><td>ABCA4   </td></tr>\n",
       "\t<tr><th scope=row>G5</th><td>Mutation</td><td>ACSM5   </td></tr>\n",
       "\t<tr><th scope=row>G6</th><td>Mutation</td><td>ADCY2   </td></tr>\n",
       "\t<tr><th scope=row>G7</th><td>Mutation</td><td>APC     </td></tr>\n",
       "\t<tr><th scope=row>G8</th><td>Mutation</td><td>ASB16   </td></tr>\n",
       "\t<tr><th scope=row>G9</th><td>Mutation</td><td>ABAT    </td></tr>\n",
       "\t<tr><th scope=row>G10</th><td>Mutation</td><td>ABCC3   </td></tr>\n",
       "\t<tr><th scope=row>G11</th><td>Mutation</td><td>ABHD12  </td></tr>\n",
       "\t<tr><th scope=row>G12</th><td>Mutation</td><td>ABR     </td></tr>\n",
       "\t<tr><th scope=row>G13</th><td>Mutation</td><td>ACAD11  </td></tr>\n",
       "</tbody>\n",
       "</table>\n",
       "</dd>\n",
       "\t<dt>$types</dt>\n",
       "\t\t<dd><table>\n",
       "<thead><tr><th></th><th scope=col>color</th></tr></thead>\n",
       "<tbody>\n",
       "\t<tr><th scope=row>Mutation</th><td>Darkgreen</td></tr>\n",
       "</tbody>\n",
       "</table>\n",
       "</dd>\n",
       "\t<dt>$name</dt>\n",
       "\t\t<dd>'Example MAF'</dd>\n",
       "</dl>\n"
      ],
      "text/latex": [
       "\\begin{description}\n",
       "\\item[\\$genotypes] \\begin{tabular}{r|lllllllllllll}\n",
       "  & G1 & G2 & G3 & G4 & G5 & G6 & G7 & G8 & G9 & G10 & G11 & G12 & G13\\\\\n",
       "\\hline\n",
       "\tTCGA-A6-2672 & 1 & 0 & 1 & 1 & 1 & 0 & 0 & 0 & 0 & 0 & 0 & 0 & 0\\\\\n",
       "\tTCGA-A6-2674 & 0 & 0 & 0 & 0 & 0 & 0 & 0 & 0 & 0 & 1 & 1 & 1 & 1\\\\\n",
       "\tTCGA-A6-2676 & 1 & 1 & 1 & 0 & 0 & 1 & 1 & 1 & 1 & 0 & 0 & 0 & 0\\\\\n",
       "\\end{tabular}\n",
       "\n",
       "\\item[\\$annotations] \\begin{tabular}{r|ll}\n",
       "  & type & event\\\\\n",
       "\\hline\n",
       "\tG1 & Mutation & A2BP1   \\\\\n",
       "\tG2 & Mutation & ABCA10  \\\\\n",
       "\tG3 & Mutation & ABCA3   \\\\\n",
       "\tG4 & Mutation & ABCA4   \\\\\n",
       "\tG5 & Mutation & ACSM5   \\\\\n",
       "\tG6 & Mutation & ADCY2   \\\\\n",
       "\tG7 & Mutation & APC     \\\\\n",
       "\tG8 & Mutation & ASB16   \\\\\n",
       "\tG9 & Mutation & ABAT    \\\\\n",
       "\tG10 & Mutation & ABCC3   \\\\\n",
       "\tG11 & Mutation & ABHD12  \\\\\n",
       "\tG12 & Mutation & ABR     \\\\\n",
       "\tG13 & Mutation & ACAD11  \\\\\n",
       "\\end{tabular}\n",
       "\n",
       "\\item[\\$types] \\begin{tabular}{r|l}\n",
       "  & color\\\\\n",
       "\\hline\n",
       "\tMutation & Darkgreen\\\\\n",
       "\\end{tabular}\n",
       "\n",
       "\\item[\\$name] 'Example MAF'\n",
       "\\end{description}\n"
      ],
      "text/markdown": [
       "$genotypes\n",
       ":   \n",
       "| <!--/--> | G1 | G2 | G3 | G4 | G5 | G6 | G7 | G8 | G9 | G10 | G11 | G12 | G13 |\n",
       "|---|---|---|---|---|---|---|---|---|---|---|---|---|---|\n",
       "| TCGA-A6-2672 | 1 | 0 | 1 | 1 | 1 | 0 | 0 | 0 | 0 | 0 | 0 | 0 | 0 |\n",
       "| TCGA-A6-2674 | 0 | 0 | 0 | 0 | 0 | 0 | 0 | 0 | 0 | 1 | 1 | 1 | 1 |\n",
       "| TCGA-A6-2676 | 1 | 1 | 1 | 0 | 0 | 1 | 1 | 1 | 1 | 0 | 0 | 0 | 0 |\n",
       "\n",
       "\n",
       "$annotations\n",
       ":   \n",
       "| <!--/--> | type | event |\n",
       "|---|---|---|\n",
       "| G1 | Mutation | A2BP1    |\n",
       "| G2 | Mutation | ABCA10   |\n",
       "| G3 | Mutation | ABCA3    |\n",
       "| G4 | Mutation | ABCA4    |\n",
       "| G5 | Mutation | ACSM5    |\n",
       "| G6 | Mutation | ADCY2    |\n",
       "| G7 | Mutation | APC      |\n",
       "| G8 | Mutation | ASB16    |\n",
       "| G9 | Mutation | ABAT     |\n",
       "| G10 | Mutation | ABCC3    |\n",
       "| G11 | Mutation | ABHD12   |\n",
       "| G12 | Mutation | ABR      |\n",
       "| G13 | Mutation | ACAD11   |\n",
       "\n",
       "\n",
       "$types\n",
       ":   \n",
       "| <!--/--> | color |\n",
       "|---|---|\n",
       "| Mutation | Darkgreen |\n",
       "\n",
       "\n",
       "$name\n",
       ":   'Example MAF'\n",
       "\n",
       "\n"
      ],
      "text/plain": [
       "$genotypes\n",
       "             G1 G2 G3 G4 G5 G6 G7 G8 G9 G10 G11 G12 G13\n",
       "TCGA-A6-2672  1  0  1  1  1  0  0  0  0   0   0   0   0\n",
       "TCGA-A6-2674  0  0  0  0  0  0  0  0  0   1   1   1   1\n",
       "TCGA-A6-2676  1  1  1  0  0  1  1  1  1   0   0   0   0\n",
       "\n",
       "$annotations\n",
       "    type       event   \n",
       "G1  \"Mutation\" \"A2BP1\" \n",
       "G2  \"Mutation\" \"ABCA10\"\n",
       "G3  \"Mutation\" \"ABCA3\" \n",
       "G4  \"Mutation\" \"ABCA4\" \n",
       "G5  \"Mutation\" \"ACSM5\" \n",
       "G6  \"Mutation\" \"ADCY2\" \n",
       "G7  \"Mutation\" \"APC\"   \n",
       "G8  \"Mutation\" \"ASB16\" \n",
       "G9  \"Mutation\" \"ABAT\"  \n",
       "G10 \"Mutation\" \"ABCC3\" \n",
       "G11 \"Mutation\" \"ABHD12\"\n",
       "G12 \"Mutation\" \"ABR\"   \n",
       "G13 \"Mutation\" \"ACAD11\"\n",
       "\n",
       "$types\n",
       "         color      \n",
       "Mutation \"Darkgreen\"\n",
       "\n",
       "$name\n",
       "[1] \"Example MAF\"\n"
      ]
     },
     "metadata": {},
     "output_type": "display_data"
    }
   ],
   "source": [
    "head(mutations)"
   ]
  },
  {
   "cell_type": "code",
   "execution_count": 120,
   "metadata": {},
   "outputs": [
    {
     "name": "stderr",
     "output_type": "stream",
     "text": [
      "Checking if input is properly formatted...\n",
      "Calculating frequency of mutations...\n",
      "Removing genes not in: ACTR2, ACTR3, ARPC1A, ARPC1B, ARPC2, ARPC3, ARPC4, ARPC5, ARPC5L\n",
      "Warning message in waterfall_geneAlt(data_frame, plotGenes):\n",
      "\"genes supplied in plotGenes contains an element not found in x or it's subsequent subsets\"setting mutation hierarchy...\n",
      "Warning message in max(mutRecur$prop):\n",
      "\"aucun argument pour max ; -Inf est renvoyé\"Warning message in waterfall_geneRecurCutoff(data_frame, mainRecurCutoff):\n",
      "\"The recurrence cutoff specified exceeds the recurrence seen in the data, resetting this value to equal max recurrence:-Inf\""
     ]
    },
    {
     "ename": "ERROR",
     "evalue": "Error in dim(ordered) <- ns: dims [produit 1] ne correspond pas à la longueur de l'objet [0]\n",
     "output_type": "error",
     "traceback": [
      "Error in dim(ordered) <- ns: dims [produit 1] ne correspond pas à la longueur de l'objet [0]\nTraceback:\n",
      "1. waterfall(brcaMAF, plotGenes = c(\"ACTR2\", \"ACTR3\", \"ARPC1A\", \n .     \"ARPC1B\", \"ARPC2\", \"ARPC3\", \"ARPC4\", \"ARPC5\", \"ARPC5L\"))",
      "2. waterfall_sampSort(data_frame, sampOrder)",
      "3. data.table::dcast(x, sample ~ gene, fun.aggregate = length, value.var = \"trv_type\")",
      "4. ns$dcast(data, formula, fun.aggregate = fun.aggregate, ..., margins = margins, \n .     subset = subset, fill = fill, value.var = value.var)",
      "5. cast(data, formula, fun.aggregate, ..., subset = subset, fill = fill, \n .     drop = drop, value.var = value.var)"
     ]
    }
   ],
   "source": [
    "waterfall(brcaMAF,  plotGenes = c(\"ACTR2\", \"ACTR3\", \"ARPC1A\", \"ARPC1B\", \"ARPC2\", \"ARPC3\", \"ARPC4\", \"ARPC5\", \"ARPC5L\"))"
   ]
  },
  {
   "cell_type": "code",
   "execution_count": null,
   "metadata": {},
   "outputs": [],
   "source": []
  }
 ],
 "metadata": {
  "kernelspec": {
   "display_name": "R",
   "language": "R",
   "name": "ir"
  },
  "language_info": {
   "codemirror_mode": "r",
   "file_extension": ".r",
   "mimetype": "text/x-r-source",
   "name": "R",
   "pygments_lexer": "r",
   "version": "3.5.2"
  }
 },
 "nbformat": 4,
 "nbformat_minor": 2
}
